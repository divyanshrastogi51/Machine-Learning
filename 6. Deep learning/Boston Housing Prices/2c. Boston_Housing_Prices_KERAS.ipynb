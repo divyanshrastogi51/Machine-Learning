{
 "cells": [
  {
   "cell_type": "markdown",
   "metadata": {
    "slideshow": {
     "slide_type": "slide"
    }
   },
   "source": [
    "### Load tensorflow"
   ]
  },
  {
   "cell_type": "code",
   "execution_count": 13,
   "metadata": {},
   "outputs": [],
   "source": [
    "import tensorflow as tf\n",
    "import numpy as np\n",
    "tf.reset_default_graph()"
   ]
  },
  {
   "cell_type": "code",
   "execution_count": 2,
   "metadata": {},
   "outputs": [
    {
     "data": {
      "text/plain": [
       "'2.2.4-tf'"
      ]
     },
     "execution_count": 2,
     "metadata": {},
     "output_type": "execute_result"
    }
   ],
   "source": [
    "tf.keras.__version__"
   ]
  },
  {
   "cell_type": "code",
   "execution_count": 3,
   "metadata": {},
   "outputs": [
    {
     "name": "stderr",
     "output_type": "stream",
     "text": [
      "Using TensorFlow backend.\n"
     ]
    }
   ],
   "source": [
    "import keras"
   ]
  },
  {
   "cell_type": "code",
   "execution_count": 4,
   "metadata": {},
   "outputs": [
    {
     "data": {
      "text/plain": [
       "'2.3.1'"
      ]
     },
     "execution_count": 4,
     "metadata": {},
     "output_type": "execute_result"
    }
   ],
   "source": [
    "keras.__version__"
   ]
  },
  {
   "cell_type": "markdown",
   "metadata": {
    "slideshow": {
     "slide_type": "slide"
    }
   },
   "source": [
    "### Collect Data"
   ]
  },
  {
   "cell_type": "code",
   "execution_count": 5,
   "metadata": {},
   "outputs": [],
   "source": [
    "(features, actual_prices),_ = tf.keras.datasets.boston_housing.load_data(test_split=0)"
   ]
  },
  {
   "cell_type": "code",
   "execution_count": 6,
   "metadata": {
    "slideshow": {
     "slide_type": "fragment"
    }
   },
   "outputs": [
    {
     "name": "stdout",
     "output_type": "stream",
     "text": [
      "Number of examples:  506\n",
      "Number of features for each example:  13\n",
      "Shape of actual prices data:  (506,)\n"
     ]
    }
   ],
   "source": [
    "print('Number of examples: ', features.shape[0])\n",
    "print('Number of features for each example: ', features.shape[1])\n",
    "print('Shape of actual prices data: ', actual_prices.shape)"
   ]
  },
  {
   "cell_type": "markdown",
   "metadata": {
    "slideshow": {
     "slide_type": "slide"
    }
   },
   "source": [
    "### Building the graph in Keras"
   ]
  },
  {
   "cell_type": "code",
   "execution_count": 7,
   "metadata": {
    "slideshow": {
     "slide_type": "fragment"
    }
   },
   "outputs": [
    {
     "name": "stdout",
     "output_type": "stream",
     "text": [
      "WARNING:tensorflow:From C:\\Users\\divyanshrastogi\\anaconda3\\lib\\site-packages\\tensorflow\\python\\ops\\init_ops.py:1251: calling VarianceScaling.__init__ (from tensorflow.python.ops.init_ops) with dtype is deprecated and will be removed in a future version.\n",
      "Instructions for updating:\n",
      "Call initializer instance with the dtype argument instead of passing it to the constructor\n"
     ]
    }
   ],
   "source": [
    "#Initialize Sequential Graph (model)\n",
    "model = tf.keras.models.Sequential()\n",
    "\n",
    "#Normalize input data\n",
    "model.add(tf.keras.layers.BatchNormalization(input_shape=(13,)))\n",
    "\n",
    "#Add Dense layer for prediction - Keras declares weights and bias automatically\n",
    "model.add(tf.keras.layers.Dense(1))\n",
    "\n",
    "#Compile the model - add Loss and Gradient Descent optimizer\n",
    "model.compile(optimizer='sgd', loss='mse')"
   ]
  },
  {
   "cell_type": "markdown",
   "metadata": {
    "slideshow": {
     "slide_type": "slide"
    }
   },
   "source": [
    "### Execute the Graph"
   ]
  },
  {
   "cell_type": "code",
   "execution_count": 8,
   "metadata": {
    "slideshow": {
     "slide_type": "fragment"
    }
   },
   "outputs": [
    {
     "name": "stdout",
     "output_type": "stream",
     "text": [
      "Epoch 1/100\n",
      "506/506 [==============================] - 0s 582us/sample - loss: 161.7955\n",
      "Epoch 2/100\n",
      "506/506 [==============================] - 0s 95us/sample - loss: 32.4251\n",
      "Epoch 3/100\n",
      "506/506 [==============================] - 0s 87us/sample - loss: 31.6030\n",
      "Epoch 4/100\n",
      "506/506 [==============================] - 0s 101us/sample - loss: 31.7296\n",
      "Epoch 5/100\n",
      "506/506 [==============================] - 0s 104us/sample - loss: 31.9440\n",
      "Epoch 6/100\n",
      "506/506 [==============================] - 0s 87us/sample - loss: 29.6859\n",
      "Epoch 7/100\n",
      "506/506 [==============================] - 0s 77us/sample - loss: 32.0275\n",
      "Epoch 8/100\n",
      "506/506 [==============================] - 0s 75us/sample - loss: 27.5257\n",
      "Epoch 9/100\n",
      "506/506 [==============================] - 0s 92us/sample - loss: 27.8166\n",
      "Epoch 10/100\n",
      "506/506 [==============================] - 0s 80us/sample - loss: 26.9357\n",
      "Epoch 11/100\n",
      "506/506 [==============================] - 0s 84us/sample - loss: 25.8086\n",
      "Epoch 12/100\n",
      "506/506 [==============================] - 0s 82us/sample - loss: 29.4077\n",
      "Epoch 13/100\n",
      "506/506 [==============================] - 0s 103us/sample - loss: 25.0848\n",
      "Epoch 14/100\n",
      "506/506 [==============================] - 0s 87us/sample - loss: 24.4325\n",
      "Epoch 15/100\n",
      "506/506 [==============================] - 0s 83us/sample - loss: 29.1114\n",
      "Epoch 16/100\n",
      "506/506 [==============================] - 0s 101us/sample - loss: 28.7805\n",
      "Epoch 17/100\n",
      "506/506 [==============================] - 0s 94us/sample - loss: 32.3577\n",
      "Epoch 18/100\n",
      "506/506 [==============================] - 0s 101us/sample - loss: 26.3566\n",
      "Epoch 19/100\n",
      "506/506 [==============================] - 0s 87us/sample - loss: 27.2936\n",
      "Epoch 20/100\n",
      "506/506 [==============================] - 0s 83us/sample - loss: 27.4086\n",
      "Epoch 21/100\n",
      "506/506 [==============================] - 0s 88us/sample - loss: 26.6656\n",
      "Epoch 22/100\n",
      "506/506 [==============================] - 0s 67us/sample - loss: 27.7182\n",
      "Epoch 23/100\n",
      "506/506 [==============================] - 0s 89us/sample - loss: 26.9831\n",
      "Epoch 24/100\n",
      "506/506 [==============================] - 0s 92us/sample - loss: 27.5599\n",
      "Epoch 25/100\n",
      "506/506 [==============================] - 0s 79us/sample - loss: 25.8620\n",
      "Epoch 26/100\n",
      "506/506 [==============================] - 0s 60us/sample - loss: 26.2981\n",
      "Epoch 27/100\n",
      "506/506 [==============================] - 0s 92us/sample - loss: 26.2777\n",
      "Epoch 28/100\n",
      "506/506 [==============================] - 0s 76us/sample - loss: 26.2944\n",
      "Epoch 29/100\n",
      "506/506 [==============================] - 0s 98us/sample - loss: 25.8599\n",
      "Epoch 30/100\n",
      "506/506 [==============================] - 0s 78us/sample - loss: 30.6569\n",
      "Epoch 31/100\n",
      "506/506 [==============================] - 0s 101us/sample - loss: 27.0574\n",
      "Epoch 32/100\n",
      "506/506 [==============================] - 0s 86us/sample - loss: 31.4655\n",
      "Epoch 33/100\n",
      "506/506 [==============================] - 0s 89us/sample - loss: 28.3354\n",
      "Epoch 34/100\n",
      "506/506 [==============================] - 0s 93us/sample - loss: 29.2079\n",
      "Epoch 35/100\n",
      "506/506 [==============================] - 0s 87us/sample - loss: 28.2228\n",
      "Epoch 36/100\n",
      "506/506 [==============================] - 0s 92us/sample - loss: 29.0003\n",
      "Epoch 37/100\n",
      "506/506 [==============================] - 0s 85us/sample - loss: 28.4781\n",
      "Epoch 38/100\n",
      "506/506 [==============================] - 0s 81us/sample - loss: 29.5814\n",
      "Epoch 39/100\n",
      "506/506 [==============================] - 0s 84us/sample - loss: 24.4164\n",
      "Epoch 40/100\n",
      "506/506 [==============================] - 0s 109us/sample - loss: 29.3920\n",
      "Epoch 41/100\n",
      "506/506 [==============================] - 0s 84us/sample - loss: 26.0309\n",
      "Epoch 42/100\n",
      "506/506 [==============================] - 0s 86us/sample - loss: 30.2128\n",
      "Epoch 43/100\n",
      "506/506 [==============================] - 0s 69us/sample - loss: 23.5216\n",
      "Epoch 44/100\n",
      "506/506 [==============================] - 0s 83us/sample - loss: 25.0581\n",
      "Epoch 45/100\n",
      "506/506 [==============================] - 0s 82us/sample - loss: 27.7773\n",
      "Epoch 46/100\n",
      "506/506 [==============================] - 0s 72us/sample - loss: 27.3483\n",
      "Epoch 47/100\n",
      "506/506 [==============================] - 0s 77us/sample - loss: 29.9315\n",
      "Epoch 48/100\n",
      "506/506 [==============================] - 0s 78us/sample - loss: 28.7710\n",
      "Epoch 49/100\n",
      "506/506 [==============================] - 0s 82us/sample - loss: 31.5357\n",
      "Epoch 50/100\n",
      "506/506 [==============================] - 0s 75us/sample - loss: 26.5943\n",
      "Epoch 51/100\n",
      "506/506 [==============================] - 0s 77us/sample - loss: 29.1992\n",
      "Epoch 52/100\n",
      "506/506 [==============================] - 0s 76us/sample - loss: 26.7452\n",
      "Epoch 53/100\n",
      "506/506 [==============================] - 0s 81us/sample - loss: 32.0250\n",
      "Epoch 54/100\n",
      "506/506 [==============================] - 0s 78us/sample - loss: 28.8414\n",
      "Epoch 55/100\n",
      "506/506 [==============================] - 0s 77us/sample - loss: 27.1614\n",
      "Epoch 56/100\n",
      "506/506 [==============================] - 0s 78us/sample - loss: 28.9014\n",
      "Epoch 57/100\n",
      "506/506 [==============================] - 0s 68us/sample - loss: 29.7323\n",
      "Epoch 58/100\n",
      "506/506 [==============================] - 0s 93us/sample - loss: 25.2031\n",
      "Epoch 59/100\n",
      "506/506 [==============================] - 0s 71us/sample - loss: 28.5191\n",
      "Epoch 60/100\n",
      "506/506 [==============================] - 0s 86us/sample - loss: 27.3418\n",
      "Epoch 61/100\n",
      "506/506 [==============================] - 0s 88us/sample - loss: 27.4419\n",
      "Epoch 62/100\n",
      "506/506 [==============================] - 0s 85us/sample - loss: 27.8551\n",
      "Epoch 63/100\n",
      "506/506 [==============================] - 0s 85us/sample - loss: 29.6794\n",
      "Epoch 64/100\n",
      "506/506 [==============================] - 0s 105us/sample - loss: 26.0056\n",
      "Epoch 65/100\n",
      "506/506 [==============================] - 0s 85us/sample - loss: 29.8936\n",
      "Epoch 66/100\n",
      "506/506 [==============================] - 0s 88us/sample - loss: 26.4421\n",
      "Epoch 67/100\n",
      "506/506 [==============================] - 0s 82us/sample - loss: 29.9811\n",
      "Epoch 68/100\n",
      "506/506 [==============================] - 0s 93us/sample - loss: 29.3594\n",
      "Epoch 69/100\n",
      "506/506 [==============================] - 0s 87us/sample - loss: 24.2318\n",
      "Epoch 70/100\n",
      "506/506 [==============================] - 0s 87us/sample - loss: 25.6598\n",
      "Epoch 71/100\n",
      "506/506 [==============================] - 0s 87us/sample - loss: 32.7179\n",
      "Epoch 72/100\n",
      "506/506 [==============================] - 0s 72us/sample - loss: 29.3787\n",
      "Epoch 73/100\n",
      "506/506 [==============================] - 0s 85us/sample - loss: 30.8573\n",
      "Epoch 74/100\n",
      "506/506 [==============================] - 0s 92us/sample - loss: 29.6060\n",
      "Epoch 75/100\n",
      "506/506 [==============================] - 0s 71us/sample - loss: 25.1287\n",
      "Epoch 76/100\n",
      "506/506 [==============================] - 0s 87us/sample - loss: 28.2337\n",
      "Epoch 77/100\n",
      "506/506 [==============================] - ETA: 0s - loss: 18.46 - 0s 98us/sample - loss: 26.0399\n",
      "Epoch 78/100\n",
      "506/506 [==============================] - 0s 90us/sample - loss: 25.4067\n",
      "Epoch 79/100\n",
      "506/506 [==============================] - 0s 79us/sample - loss: 32.8324\n",
      "Epoch 80/100\n",
      "506/506 [==============================] - 0s 93us/sample - loss: 31.9374\n",
      "Epoch 81/100\n",
      "506/506 [==============================] - 0s 81us/sample - loss: 28.9222\n",
      "Epoch 82/100\n",
      "506/506 [==============================] - 0s 89us/sample - loss: 28.2310\n",
      "Epoch 83/100\n",
      "506/506 [==============================] - 0s 131us/sample - loss: 27.9917\n",
      "Epoch 84/100\n",
      "506/506 [==============================] - 0s 77us/sample - loss: 26.3247\n",
      "Epoch 85/100\n",
      "506/506 [==============================] - 0s 78us/sample - loss: 28.4397\n",
      "Epoch 86/100\n",
      "506/506 [==============================] - 0s 87us/sample - loss: 25.6667\n",
      "Epoch 87/100\n",
      "506/506 [==============================] - 0s 106us/sample - loss: 25.9271\n",
      "Epoch 88/100\n",
      "506/506 [==============================] - 0s 88us/sample - loss: 28.0909\n",
      "Epoch 89/100\n",
      "506/506 [==============================] - 0s 86us/sample - loss: 28.8928\n",
      "Epoch 90/100\n",
      "506/506 [==============================] - 0s 84us/sample - loss: 30.4328\n",
      "Epoch 91/100\n",
      "506/506 [==============================] - 0s 69us/sample - loss: 29.3809\n",
      "Epoch 92/100\n",
      "506/506 [==============================] - 0s 82us/sample - loss: 25.8531\n",
      "Epoch 93/100\n",
      "506/506 [==============================] - 0s 86us/sample - loss: 29.3219\n",
      "Epoch 94/100\n"
     ]
    },
    {
     "name": "stdout",
     "output_type": "stream",
     "text": [
      "506/506 [==============================] - 0s 82us/sample - loss: 23.8750\n",
      "Epoch 95/100\n",
      "506/506 [==============================] - 0s 94us/sample - loss: 28.5727\n",
      "Epoch 96/100\n",
      "506/506 [==============================] - 0s 78us/sample - loss: 28.0959\n",
      "Epoch 97/100\n",
      "506/506 [==============================] - 0s 56us/sample - loss: 27.7408\n",
      "Epoch 98/100\n",
      "506/506 [==============================] - 0s 71us/sample - loss: 28.9363\n",
      "Epoch 99/100\n",
      "506/506 [==============================] - 0s 106us/sample - loss: 29.9373\n",
      "Epoch 100/100\n",
      "506/506 [==============================] - 0s 99us/sample - loss: 25.0890\n"
     ]
    },
    {
     "data": {
      "text/plain": [
       "<tensorflow.python.keras.callbacks.History at 0x29f143fc988>"
      ]
     },
     "execution_count": 8,
     "metadata": {},
     "output_type": "execute_result"
    }
   ],
   "source": [
    "model.fit(features, actual_prices, epochs=100)"
   ]
  },
  {
   "cell_type": "markdown",
   "metadata": {
    "slideshow": {
     "slide_type": "slide"
    }
   },
   "source": [
    "### Save the model"
   ]
  },
  {
   "cell_type": "code",
   "execution_count": 9,
   "metadata": {
    "slideshow": {
     "slide_type": "fragment"
    }
   },
   "outputs": [],
   "source": [
    "model.save('boston_housing_lr.h5')"
   ]
  },
  {
   "cell_type": "code",
   "execution_count": 10,
   "metadata": {},
   "outputs": [],
   "source": [
    "import h5py"
   ]
  },
  {
   "cell_type": "code",
   "execution_count": 11,
   "metadata": {},
   "outputs": [],
   "source": [
    "def read_hdf5(path):\n",
    "\n",
    "    weights = {}\n",
    "\n",
    "    keys = []\n",
    "    with h5py.File(path, 'r') as f: # open file\n",
    "        f.visit(keys.append) # append all keys to list\n",
    "        for key in keys:\n",
    "            if ':' in key: # contains data if ':' in key\n",
    "                print(f[key].name)\n",
    "                weights[f[key].name] = f[key].value\n",
    "    return weights"
   ]
  },
  {
   "cell_type": "code",
   "execution_count": 12,
   "metadata": {},
   "outputs": [
    {
     "name": "stdout",
     "output_type": "stream",
     "text": [
      "/model_weights/batch_normalization/batch_normalization/beta:0\n",
      "/model_weights/batch_normalization/batch_normalization/gamma:0\n",
      "/model_weights/batch_normalization/batch_normalization/moving_mean:0\n",
      "/model_weights/batch_normalization/batch_normalization/moving_variance:0\n",
      "/model_weights/dense/dense/bias:0\n",
      "/model_weights/dense/dense/kernel:0\n",
      "/optimizer_weights/SGD/iter:0\n"
     ]
    },
    {
     "name": "stderr",
     "output_type": "stream",
     "text": [
      "C:\\Users\\divyanshrastogi\\anaconda3\\lib\\site-packages\\ipykernel_launcher.py:11: H5pyDeprecationWarning: dataset.value has been deprecated. Use dataset[()] instead.\n",
      "  # This is added back by InteractiveShellApp.init_path()\n"
     ]
    },
    {
     "data": {
      "text/plain": [
       "{'/model_weights/batch_normalization/batch_normalization/beta:0': array([-1.1860332 ,  1.6690192 , -0.16081937,  0.5209801 , -1.9511423 ,\n",
       "        -0.8975378 , -0.03838898, -1.0818015 ,  1.2507728 , -0.8467808 ,\n",
       "        -1.4706205 ,  0.5947007 , -1.4413091 ], dtype=float32),\n",
       " '/model_weights/batch_normalization/batch_normalization/gamma:0': array([ 0.75196606,  0.532856  ,  0.6027864 ,  1.0251347 ,  1.0602689 ,\n",
       "        -1.6800252 ,  0.6960031 ,  1.99565   ,  1.5425953 ,  1.4917128 ,\n",
       "         1.2644227 ,  1.0983719 ,  1.9497876 ], dtype=float32),\n",
       " '/model_weights/batch_normalization/batch_normalization/moving_mean:0': array([3.6207037e+00, 1.1345439e+01, 1.1127344e+01, 6.8966828e-02,\n",
       "        5.5455208e-01, 6.2847924e+00, 6.8547318e+01, 3.7961676e+00,\n",
       "        9.5530415e+00, 4.0821216e+02, 1.8457405e+01, 3.5672736e+02,\n",
       "        1.2651970e+01], dtype=float32),\n",
       " '/model_weights/batch_normalization/batch_normalization/moving_variance:0': array([7.1924713e+01, 5.2687866e+02, 4.5522305e+01, 6.2553182e-02,\n",
       "        1.3009974e-02, 4.8038542e-01, 7.6762610e+02, 4.3029823e+00,\n",
       "        7.3081131e+01, 2.7378498e+04, 4.5405264e+00, 8.0584976e+03,\n",
       "        4.9283222e+01], dtype=float32),\n",
       " '/model_weights/dense/dense/bias:0': array([3.5567691], dtype=float32),\n",
       " '/model_weights/dense/dense/kernel:0': array([[-1.1286623 ],\n",
       "        [ 1.5495613 ],\n",
       "        [-0.07566795],\n",
       "        [ 0.73687553],\n",
       "        [-1.8246323 ],\n",
       "        [-1.4339671 ],\n",
       "        [ 0.04740048],\n",
       "        [-1.3801228 ],\n",
       "        [ 1.4180543 ],\n",
       "        [-1.0631968 ],\n",
       "        [-1.5584261 ],\n",
       "        [ 0.7075302 ],\n",
       "        [-1.8398778 ]], dtype=float32),\n",
       " '/optimizer_weights/SGD/iter:0': 1600}"
      ]
     },
     "execution_count": 12,
     "metadata": {},
     "output_type": "execute_result"
    }
   ],
   "source": [
    "read_hdf5('boston_housing_lr.h5')"
   ]
  },
  {
   "cell_type": "code",
   "execution_count": null,
   "metadata": {},
   "outputs": [],
   "source": []
  }
 ],
 "metadata": {
  "kernelspec": {
   "display_name": "Python 3",
   "language": "python",
   "name": "python3"
  },
  "language_info": {
   "codemirror_mode": {
    "name": "ipython",
    "version": 3
   },
   "file_extension": ".py",
   "mimetype": "text/x-python",
   "name": "python",
   "nbconvert_exporter": "python",
   "pygments_lexer": "ipython3",
   "version": "3.7.6"
  }
 },
 "nbformat": 4,
 "nbformat_minor": 2
}
