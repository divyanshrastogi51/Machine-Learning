{
 "cells": [
  {
   "cell_type": "markdown",
   "metadata": {},
   "source": [
    "#  Emotion Detection in Images of Faces\n",
    "\n",
    "In this project, you will:\n",
    "1. Learn to use Keras, a high-level neural networks API (programming framework), written in Python and capable of running on top of several lower-level frameworks including TensorFlow and CNTK. \n",
    "2. See how you can in a couple of hours build a deep learning algorithm.\n",
    "\n",
    "#### Why are we using Keras? \n",
    "\n",
    "* Keras was developed to enable deep learning engineers to build and experiment with different models very quickly. \n",
    "* Just as TensorFlow is a higher-level framework than Python, Keras is an even higher-level framework and provides additional abstractions. \n",
    "* Being able to go from idea to result with the least possible delay is key to finding good models. \n",
    "* However, Keras is more restrictive than the lower-level frameworks, so there are some very complex models that you would still implement in TensorFlow rather than in Keras. \n",
    "* That being said, Keras will work fine for many common models. "
   ]
  },
  {
   "cell_type": "markdown",
   "metadata": {},
   "source": []
  },
  {
   "cell_type": "markdown",
   "metadata": {},
   "source": [
    "## Load packages \n",
    "* Let's load the required packages."
   ]
  },
  {
   "cell_type": "code",
   "execution_count": 16,
   "metadata": {},
   "outputs": [],
   "source": [
    "import numpy as np\n",
    "from keras import layers\n",
    "from keras.layers import Input, Dense, Activation, ZeroPadding2D, BatchNormalization, Flatten, Conv2D\n",
    "from keras.layers import AveragePooling2D, MaxPooling2D, Dropout, GlobalMaxPooling2D, GlobalAveragePooling2D\n",
    "from keras.models import Model\n",
    "from keras.preprocessing import image\n",
    "from keras.utils import layer_utils\n",
    "from keras.utils.data_utils import get_file\n",
    "from keras.applications.imagenet_utils import preprocess_input\n",
    "import pydot\n",
    "from IPython.display import SVG\n",
    "from keras.utils.vis_utils import model_to_dot\n",
    "from keras.utils import plot_model\n",
    "from kt_utils import *\n",
    "\n",
    "import keras.backend as K\n",
    "K.set_image_data_format('channels_last')\n",
    "import matplotlib.pyplot as plt\n",
    "from matplotlib.pyplot import imshow\n",
    "\n",
    "%matplotlib inline"
   ]
  },
  {
   "cell_type": "markdown",
   "metadata": {},
   "source": [
    "**Note**: As you can see, we've imported a lot of functions from Keras. You can use them by calling them directly in your code. Ex: `X = Input(...)` or `X = ZeroPadding2D(...)`. \n",
    "\n",
    "In other words, unlike TensorFlow, you don't have to create the graph and then make a separate `sess.run()` call to evaluate those variables."
   ]
  },
  {
   "cell_type": "markdown",
   "metadata": {},
   "source": [
    "## 1 - Emotion Tracking\n",
    "\n",
    "* A nearby community health clinic is helping the local residents monitor their mental health.  \n",
    "* As part of their study, they are asking volunteers to record their emotions throughout the day.\n",
    "* To help the participants more easily track their emotions, you are asked to create an app that will classify their emotions based on some pictures that the volunteers will take of their facial expressions.\n",
    "* As a proof-of-concept, you first train your model to detect if someone's emotion is classified as \"happy\" or \"not happy.\"\n",
    "\n",
    "To build and train this model, you have gathered pictures of some volunteers in a nearby neighborhood. The dataset is labeled.\n",
    "<img src=\"images/face_images.png\" style=\"width:550px;height:250px;\">\n",
    "\n",
    "Run the following code to normalize the dataset and learn about its shapes."
   ]
  },
  {
   "cell_type": "code",
   "execution_count": 2,
   "metadata": {},
   "outputs": [
    {
     "name": "stdout",
     "output_type": "stream",
     "text": [
      "number of training examples = 600\n",
      "number of test examples = 150\n",
      "X_train shape: (600, 64, 64, 3)\n",
      "Y_train shape: (600, 1)\n",
      "X_test shape: (150, 64, 64, 3)\n",
      "Y_test shape: (150, 1)\n"
     ]
    }
   ],
   "source": [
    "X_train_orig, Y_train_orig, X_test_orig, Y_test_orig, classes = load_dataset()\n",
    "\n",
    "# Normalize image vectors\n",
    "X_train = X_train_orig/255.\n",
    "X_test = X_test_orig/255.\n",
    "\n",
    "# Reshape\n",
    "Y_train = Y_train_orig.T\n",
    "Y_test = Y_test_orig.T\n",
    "\n",
    "print (\"number of training examples = \" + str(X_train.shape[0]))\n",
    "print (\"number of test examples = \" + str(X_test.shape[0]))\n",
    "print (\"X_train shape: \" + str(X_train.shape))\n",
    "print (\"Y_train shape: \" + str(Y_train.shape))\n",
    "print (\"X_test shape: \" + str(X_test.shape))\n",
    "print (\"Y_test shape: \" + str(Y_test.shape))"
   ]
  },
  {
   "cell_type": "markdown",
   "metadata": {},
   "source": [
    "**Details of the \"Face\" dataset**:\n",
    "- Images are of shape (64,64,3)\n",
    "- Training: 600 pictures\n",
    "- Test: 150 pictures"
   ]
  },
  {
   "cell_type": "markdown",
   "metadata": {},
   "source": [
    "## 2 - Building a model in Keras\n",
    "\n",
    "Keras is very good for rapid prototyping. In just a short time you will be able to build a model that achieves outstanding results.\n",
    "\n",
    "Here is an example of a model in Keras:\n",
    "\n",
    "```python\n",
    "def model(input_shape):\n",
    "    \"\"\"\n",
    "    input_shape: The height, width and channels as a tuple.  \n",
    "        Note that this does not include the 'batch' as a dimension.\n",
    "        If you have a batch like 'X_train', \n",
    "        then you can provide the input_shape using\n",
    "        X_train.shape[1:]\n",
    "    \"\"\"\n",
    "    \n",
    "    # Define the input placeholder as a tensor with shape input_shape. Think of this as your input image!\n",
    "    X_input = Input(input_shape)\n",
    "\n",
    "    # Zero-Padding: pads the border of X_input with zeroes\n",
    "    X = ZeroPadding2D((3, 3))(X_input)\n",
    "\n",
    "    # CONV -> BN -> RELU Block applied to X\n",
    "    X = Conv2D(32, (7, 7), strides = (1, 1), name = 'conv0')(X)\n",
    "    X = BatchNormalization(axis = 3, name = 'bn0')(X)\n",
    "    X = Activation('relu')(X)\n",
    "\n",
    "    # MAXPOOL\n",
    "    X = MaxPooling2D((2, 2), name='max_pool')(X)\n",
    "\n",
    "    # FLATTEN X (means convert it to a vector) + FULLYCONNECTED\n",
    "    X = Flatten()(X)\n",
    "    X = Dense(1, activation='sigmoid', name='fc')(X)\n",
    "\n",
    "    # Create model. This creates your Keras model instance, you'll use this instance to train/test the model.\n",
    "    model = Model(inputs = X_input, outputs = X, name='HappyModel')\n",
    "    \n",
    "    return model\n",
    "```"
   ]
  },
  {
   "cell_type": "markdown",
   "metadata": {},
   "source": [
    "#### Variable naming convention\n",
    "\n",
    "* Note that Keras uses a different convention with variable names than we've previously used with numpy and TensorFlow. \n",
    "* Instead of creating unique variable names for each step and each layer, such as \n",
    "```\n",
    "X = ...\n",
    "Z1 = ...\n",
    "A1 = ...\n",
    "```\n",
    "* Keras re-uses and overwrites the same variable at each step:\n",
    "```\n",
    "X = ...\n",
    "X = ...\n",
    "X = ...\n",
    "```\n",
    "* The exception is `X_input`, which we kept separate since it's needed later."
   ]
  },
  {
   "cell_type": "markdown",
   "metadata": {},
   "source": [
    "#### Objects as functions\n",
    "* Notice how there are two pairs of parentheses in each statement.  For example:\n",
    "```\n",
    "X = ZeroPadding2D((3, 3))(X_input)\n",
    "```\n",
    "* The first is a constructor call which creates an object (ZeroPadding2D).\n",
    "* In Python, objects can be called as functions. Search for 'python object as function and you can read this blog post [Python Pandemonium](https://medium.com/python-pandemonium/function-as-objects-in-python-d5215e6d1b0d).  See the section titled \"Objects as functions.\"\n",
    "* The single line is equivalent to this:\n",
    "```\n",
    "ZP = ZeroPadding2D((3, 3)) # ZP is an object that can be called as a function\n",
    "X = ZP(X_input) \n",
    "```"
   ]
  },
  {
   "cell_type": "markdown",
   "metadata": {},
   "source": [
    "Implementing a `HappyModel()`.  \n"
   ]
  },
  {
   "cell_type": "code",
   "execution_count": 3,
   "metadata": {},
   "outputs": [],
   "source": [
    "# HappyModel\n",
    "\n",
    "def HappyModel(input_shape):\n",
    "    \"\"\"\n",
    "    Implementation of the HappyModel.\n",
    "    \n",
    "    Arguments:\n",
    "    input_shape -- shape of the images of the dataset\n",
    "        (height, width, channels) as a tuple.  \n",
    "        Note that this does not include the 'batch' as a dimension.\n",
    "        If you have a batch like 'X_train', \n",
    "        then you can provide the input_shape using\n",
    "        X_train.shape[1:]\n",
    "    \n",
    "\n",
    "    Returns:\n",
    "    model -- a Model() instance in Keras\n",
    "    \"\"\"\n",
    "\n",
    "    # Feel free to use the suggested outline in the text above to get started, and run through the whole\n",
    "    # exercise (including the later portions of this notebook) once. The come back also try out other\n",
    "    # network architectures as well. \n",
    "    X_input = Input(input_shape)\n",
    "    \n",
    "    # Zero-Padding: pads the border of X_input with zeroes\n",
    "    X = ZeroPadding2D((3, 3))(X_input)\n",
    "\n",
    "    # CONV -> BN -> RELU Block applied to X\n",
    "    X = Conv2D(32, (3,3), strides=(1,1), name='conv0')(X_input)\n",
    "    X = BatchNormalization(axis=3, name='bn0')(X)\n",
    "    X = Activation('relu')(X)\n",
    "    \n",
    "    X = Conv2D(16, (3,3), strides=(1,1), name='conv1')(X_input)\n",
    "    X = BatchNormalization(axis=3, name='bn1')(X)\n",
    "    X = Activation('relu')(X)\n",
    "    \n",
    "    # MAXPOOL\n",
    "    X = MaxPooling2D((2, 2), name='max_pool')(X)\n",
    "\n",
    "    # FLATTEN X (means convert it to a vector) + FULLYCONNECTED\n",
    "    X = Flatten()(X)\n",
    "    X = Dense(1, activation='sigmoid', name='fc')(X)\n",
    "\n",
    "    \n",
    "    # Create model. This creates your Keras model instance, you'll use this instance to train/test the model.\n",
    "    model = Model(inputs = X_input, outputs = X, name='HappyModel')\n",
    "    \n",
    "    \n",
    "\n",
    "    \n",
    "    return model"
   ]
  },
  {
   "cell_type": "markdown",
   "metadata": {},
   "source": [
    "You have now built a function to describe your model. To train and test this model, there are four steps in Keras:\n",
    "1. Create the model by calling the function above  \n",
    "\n",
    "2. Compile the model by calling `model.compile(optimizer = \"...\", loss = \"...\", metrics = [\"accuracy\"])`  \n",
    "\n",
    "3. Train the model on train data by calling `model.fit(x = ..., y = ..., epochs = ..., batch_size = ...)`  \n",
    "\n",
    "4. Test the model on test data by calling `model.evaluate(x = ..., y = ...)`  \n",
    "\n",
    "If you want to know more about `model.compile()`, `model.fit()`, `model.evaluate()` and their arguments, refer to the official [Keras documentation](https://keras.io/models/model/)."
   ]
  },
  {
   "cell_type": "markdown",
   "metadata": {},
   "source": [
    "#### Step 1: create the model.  \n",
    "**Hint**:  \n",
    "The `input_shape` parameter is a tuple (height, width, channels).  It excludes the batch number.  \n",
    "Try `X_train.shape[1:]` as the `input_shape`."
   ]
  },
  {
   "cell_type": "code",
   "execution_count": 4,
   "metadata": {},
   "outputs": [
    {
     "name": "stdout",
     "output_type": "stream",
     "text": [
      "WARNING:tensorflow:From C:\\Users\\divyanshrastogi\\anaconda3\\lib\\site-packages\\keras\\backend\\tensorflow_backend.py:4070: The name tf.nn.max_pool is deprecated. Please use tf.nn.max_pool2d instead.\n",
      "\n"
     ]
    }
   ],
   "source": [
    "\n",
    "happyModel = HappyModel(X_train.shape[1:])\n"
   ]
  },
  {
   "cell_type": "markdown",
   "metadata": {},
   "source": [
    "#### Step 2: compile the model\n",
    "\n",
    "**Hint**:  \n",
    "Optimizers you can try include `'adam'`, `'sgd'` or others.  See the documentation for [optimizers](https://keras.io/optimizers/)  \n",
    "The \"happiness detection\" is a binary classification problem.  The loss function that you can use is `'binary_cross_entropy'`.  Note that `'categorical_cross_entropy'` won't work with your data set as its formatted, because the data is an array of 0 or 1 rather than two arrays (one for each category).  Documentation for [losses](https://keras.io/losses/)"
   ]
  },
  {
   "cell_type": "code",
   "execution_count": 5,
   "metadata": {},
   "outputs": [
    {
     "name": "stdout",
     "output_type": "stream",
     "text": [
      "WARNING:tensorflow:From C:\\Users\\divyanshrastogi\\anaconda3\\lib\\site-packages\\tensorflow\\python\\ops\\nn_impl.py:180: add_dispatch_support.<locals>.wrapper (from tensorflow.python.ops.array_ops) is deprecated and will be removed in a future version.\n",
      "Instructions for updating:\n",
      "Use tf.where in 2.0, which has the same broadcast rule as np.where\n"
     ]
    }
   ],
   "source": [
    "\n",
    "happyModel.compile(optimizer='adam', loss='binary_crossentropy', metrics=['accuracy'])\n"
   ]
  },
  {
   "cell_type": "markdown",
   "metadata": {},
   "source": [
    "#### Step 3: train the model\n",
    "\n",
    "**Hint**:  \n",
    "Use the `'X_train'`, `'Y_train'` variables.  Use integers for the epochs and batch_size\n",
    "\n",
    "**Note**: If you run `fit()` again, the `model` will continue to train with the parameters it has already learned instead of reinitializing them."
   ]
  },
  {
   "cell_type": "code",
   "execution_count": 6,
   "metadata": {},
   "outputs": [
    {
     "name": "stdout",
     "output_type": "stream",
     "text": [
      "WARNING:tensorflow:From C:\\Users\\divyanshrastogi\\anaconda3\\lib\\site-packages\\keras\\backend\\tensorflow_backend.py:422: The name tf.global_variables is deprecated. Please use tf.compat.v1.global_variables instead.\n",
      "\n",
      "Epoch 1/40\n",
      "600/600 [==============================] - 2s 4ms/step - loss: 0.4719 - accuracy: 0.7933\n",
      "Epoch 2/40\n",
      "600/600 [==============================] - 2s 4ms/step - loss: 0.1436 - accuracy: 0.9550\n",
      "Epoch 3/40\n",
      "600/600 [==============================] - 2s 3ms/step - loss: 0.0883 - accuracy: 0.9667\n",
      "Epoch 4/40\n",
      "600/600 [==============================] - 2s 4ms/step - loss: 0.1206 - accuracy: 0.9517\n",
      "Epoch 5/40\n",
      "600/600 [==============================] - 2s 3ms/step - loss: 0.0857 - accuracy: 0.9683\n",
      "Epoch 6/40\n",
      "600/600 [==============================] - 2s 3ms/step - loss: 0.0473 - accuracy: 0.9867\n",
      "Epoch 7/40\n",
      "600/600 [==============================] - 3s 5ms/step - loss: 0.0390 - accuracy: 0.9900\n",
      "Epoch 8/40\n",
      "600/600 [==============================] - 4s 6ms/step - loss: 0.0310 - accuracy: 0.9950\n",
      "Epoch 9/40\n",
      "600/600 [==============================] - 3s 5ms/step - loss: 0.0211 - accuracy: 0.9950\n",
      "Epoch 10/40\n",
      "600/600 [==============================] - 3s 4ms/step - loss: 0.0239 - accuracy: 0.9933\n",
      "Epoch 11/40\n",
      "600/600 [==============================] - 3s 5ms/step - loss: 0.0444 - accuracy: 0.9817\n",
      "Epoch 12/40\n",
      "600/600 [==============================] - 3s 4ms/step - loss: 0.0211 - accuracy: 0.9950\n",
      "Epoch 13/40\n",
      "600/600 [==============================] - 3s 4ms/step - loss: 0.0212 - accuracy: 0.9967\n",
      "Epoch 14/40\n",
      "600/600 [==============================] - 3s 4ms/step - loss: 0.0319 - accuracy: 0.9883\n",
      "Epoch 15/40\n",
      "600/600 [==============================] - 3s 4ms/step - loss: 0.0308 - accuracy: 0.9900\n",
      "Epoch 16/40\n",
      "600/600 [==============================] - 3s 4ms/step - loss: 0.0148 - accuracy: 0.9950\n",
      "Epoch 17/40\n",
      "600/600 [==============================] - 3s 4ms/step - loss: 0.0089 - accuracy: 0.9983\n",
      "Epoch 18/40\n",
      "600/600 [==============================] - 3s 4ms/step - loss: 0.0107 - accuracy: 0.9967\n",
      "Epoch 19/40\n",
      "600/600 [==============================] - 3s 4ms/step - loss: 0.0137 - accuracy: 0.9967\n",
      "Epoch 20/40\n",
      "600/600 [==============================] - 3s 4ms/step - loss: 0.0181 - accuracy: 0.9950\n",
      "Epoch 21/40\n",
      "600/600 [==============================] - 3s 4ms/step - loss: 0.0080 - accuracy: 0.9983\n",
      "Epoch 22/40\n",
      "600/600 [==============================] - 3s 5ms/step - loss: 0.0120 - accuracy: 0.9967\n",
      "Epoch 23/40\n",
      "600/600 [==============================] - 3s 4ms/step - loss: 0.0246 - accuracy: 0.9950\n",
      "Epoch 24/40\n",
      "600/600 [==============================] - 3s 4ms/step - loss: 0.0300 - accuracy: 0.9917\n",
      "Epoch 25/40\n",
      "600/600 [==============================] - 3s 4ms/step - loss: 0.0079 - accuracy: 1.0000\n",
      "Epoch 26/40\n",
      "600/600 [==============================] - 3s 4ms/step - loss: 0.0038 - accuracy: 1.0000\n",
      "Epoch 27/40\n",
      "600/600 [==============================] - 3s 5ms/step - loss: 0.0062 - accuracy: 0.9983\n",
      "Epoch 28/40\n",
      "600/600 [==============================] - 3s 6ms/step - loss: 0.0020 - accuracy: 1.0000\n",
      "Epoch 29/40\n",
      "600/600 [==============================] - 3s 5ms/step - loss: 0.0023 - accuracy: 1.0000\n",
      "Epoch 30/40\n",
      "600/600 [==============================] - 3s 5ms/step - loss: 0.0021 - accuracy: 1.0000\n",
      "Epoch 31/40\n",
      "600/600 [==============================] - 3s 5ms/step - loss: 0.0030 - accuracy: 1.0000\n",
      "Epoch 32/40\n",
      "600/600 [==============================] - 3s 5ms/step - loss: 0.0022 - accuracy: 1.0000\n",
      "Epoch 33/40\n",
      "600/600 [==============================] - 3s 4ms/step - loss: 0.0012 - accuracy: 1.0000\n",
      "Epoch 34/40\n",
      "600/600 [==============================] - 3s 5ms/step - loss: 0.0013 - accuracy: 1.0000\n",
      "Epoch 35/40\n",
      "600/600 [==============================] - 3s 5ms/step - loss: 0.0015 - accuracy: 1.0000\n",
      "Epoch 36/40\n",
      "600/600 [==============================] - 3s 5ms/step - loss: 9.5545e-04 - accuracy: 1.0000\n",
      "Epoch 37/40\n",
      "600/600 [==============================] - 3s 5ms/step - loss: 8.3636e-04 - accuracy: 1.0000\n",
      "Epoch 38/40\n",
      "600/600 [==============================] - 3s 5ms/step - loss: 7.7725e-04 - accuracy: 1.0000\n",
      "Epoch 39/40\n",
      "600/600 [==============================] - 3s 4ms/step - loss: 6.4083e-04 - accuracy: 1.0000\n",
      "Epoch 40/40\n",
      "600/600 [==============================] - 3s 5ms/step - loss: 0.0011 - accuracy: 1.0000\n"
     ]
    },
    {
     "data": {
      "text/plain": [
       "<keras.callbacks.callbacks.History at 0x291378ebe88>"
      ]
     },
     "execution_count": 6,
     "metadata": {},
     "output_type": "execute_result"
    }
   ],
   "source": [
    "\n",
    "happyModel.fit(X_train, Y_train, batch_size=16, epochs=40)\n"
   ]
  },
  {
   "cell_type": "markdown",
   "metadata": {},
   "source": [
    "#### Step 4: evaluate model  \n",
    "**Hint**:  \n",
    "Use the `'X_test'` and `'Y_test'` variables to evaluate the model's performance."
   ]
  },
  {
   "cell_type": "code",
   "execution_count": 7,
   "metadata": {
    "scrolled": true
   },
   "outputs": [
    {
     "name": "stdout",
     "output_type": "stream",
     "text": [
      "150/150 [==============================] - 0s 3ms/step\n",
      "\n",
      "Loss = 0.10485052595535914\n",
      "Test Accuracy = 0.95333331823349\n"
     ]
    }
   ],
   "source": [
    "\n",
    "preds =  happyModel.evaluate(X_test, Y_test)\n",
    "\n",
    "print()\n",
    "print (\"Loss = \" + str(preds[0]))\n",
    "print (\"Test Accuracy = \" + str(preds[1]))"
   ]
  },
  {
   "cell_type": "markdown",
   "metadata": {},
   "source": [
    "## 3 - Conclusion\n",
    "\n",
    "Congratulations, you have created a proof of concept for \"happiness detection\"!"
   ]
  },
  {
   "cell_type": "markdown",
   "metadata": {},
   "source": [
    "## Key Points to remember\n",
    "- Keras is a tool we recommend for rapid prototyping. It allows you to quickly try out different model architectures.\n",
    "- Remember The four steps in Keras: \n",
    "\n",
    "\n",
    "1. Create  \n",
    "2. Compile  \n",
    "3. Fit/Train  \n",
    "4. Evaluate/Test  "
   ]
  },
  {
   "cell_type": "markdown",
   "metadata": {},
   "source": [
    "## 4 - Test with your own image\n",
    "\n",
    "Congratulations on finishing this assignment. You can now take a picture of your face and see if it can classify whether your expression is \"happy\" or \"not happy\". To do that:\n",
    "\n",
    "1. Add your image to this Jupyter Notebook's directory, in the \"images\" folder\n",
    "2. Write your image's name in the following code\n",
    "3. Run the code and check if the algorithm is right (0 is not happy, 1 is happy)!\n",
    "    \n",
    "The training/test sets were quite similar; for example, all the pictures were taken against the same background (since a front door camera is always mounted in the same position). This makes the problem easier, but a model trained on this data may or may not work on your own data. But feel free to give it a try! "
   ]
  },
  {
   "cell_type": "code",
   "execution_count": 15,
   "metadata": {},
   "outputs": [
    {
     "name": "stdout",
     "output_type": "stream",
     "text": [
      "[[1.]]\n"
     ]
    },
    {
     "data": {
      "image/png": "[encoded data removed]",
      "text/plain": [
       "<Figure size 432x288 with 1 Axes>"
      ]
     },
     "metadata": {
      "needs_background": "light"
     },
     "output_type": "display_data"
    }
   ],
   "source": [
    "\n",
    "img_path = 'images/happy-house.jpg'\n",
    "\n",
    "img = image.load_img(img_path, target_size=(64, 64))\n",
    "imshow(img)\n",
    "\n",
    "x = image.img_to_array(img)\n",
    "x = np.expand_dims(x, axis=0)\n",
    "x = preprocess_input(x)\n",
    "\n",
    "print(happyModel.predict(x))"
   ]
  },
  {
   "cell_type": "markdown",
   "metadata": {},
   "source": [
    "## 5 - Other useful functions in Keras\n",
    "\n",
    "Two other basic features of Keras that you'll find useful are:\n",
    "- `model.summary()`: prints the details of your layers in a table with the sizes of its inputs/outputs\n",
    "- `plot_model()`: plots your graph in a nice layout. You can even save it as \".png\" using SVG() if you'd like to share it on social media ;). It is saved in \"File\" then \"Open...\" in the upper bar of the notebook.\n",
    "\n",
    "Run the following code."
   ]
  },
  {
   "cell_type": "code",
   "execution_count": 9,
   "metadata": {
    "scrolled": false
   },
   "outputs": [
    {
     "name": "stdout",
     "output_type": "stream",
     "text": [
      "Model: \"HappyModel\"\n",
      "_________________________________________________________________\n",
      "Layer (type)                 Output Shape              Param #   \n",
      "=================================================================\n",
      "input_1 (InputLayer)         (None, 64, 64, 3)         0         \n",
      "_________________________________________________________________\n",
      "conv1 (Conv2D)               (None, 62, 62, 16)        448       \n",
      "_________________________________________________________________\n",
      "bn1 (BatchNormalization)     (None, 62, 62, 16)        64        \n",
      "_________________________________________________________________\n",
      "activation_2 (Activation)    (None, 62, 62, 16)        0         \n",
      "_________________________________________________________________\n",
      "max_pool (MaxPooling2D)      (None, 31, 31, 16)        0         \n",
      "_________________________________________________________________\n",
      "flatten_1 (Flatten)          (None, 15376)             0         \n",
      "_________________________________________________________________\n",
      "fc (Dense)                   (None, 1)                 15377     \n",
      "=================================================================\n",
      "Total params: 15,889\n",
      "Trainable params: 15,857\n",
      "Non-trainable params: 32\n",
      "_________________________________________________________________\n"
     ]
    }
   ],
   "source": [
    "happyModel.summary()"
   ]
  },
  {
   "cell_type": "code",
   "execution_count": 10,
   "metadata": {},
   "outputs": [
    {
     "data": {
      "image/svg+xml": [
       "<svg height=\"644pt\" viewBox=\"0.00 0.00 172.00 483.00\" width=\"229pt\" xmlns=\"http://www.w3.org/2000/svg\" xmlns:xlink=\"http://www.w3.org/1999/xlink\">\n",
       "<g class=\"graph\" id=\"graph0\" transform=\"scale(1.33333 1.33333) rotate(0) translate(4 479)\">\n",
       "<title>G</title>\n",
       "<polygon fill=\"white\" points=\"-4,4 -4,-479 168,-479 168,4 -4,4\" stroke=\"none\"/>\n",
       "<!-- 2822719947720 -->\n",
       "<g class=\"node\" id=\"node1\"><title>2822719947720</title>\n",
       "<polygon fill=\"none\" points=\"19,-438.5 19,-474.5 145,-474.5 145,-438.5 19,-438.5\" stroke=\"black\"/>\n",
       "<text font-family=\"Times New Roman,serif\" font-size=\"14.00\" text-anchor=\"middle\" x=\"82\" y=\"-452.8\">input_1: InputLayer</text>\n",
       "</g>\n",
       "<!-- 2822719948168 -->\n",
       "<g class=\"node\" id=\"node2\"><title>2822719948168</title>\n",
       "<polygon fill=\"none\" points=\"29.5,-365.5 29.5,-401.5 134.5,-401.5 134.5,-365.5 29.5,-365.5\" stroke=\"black\"/>\n",
       "<text font-family=\"Times New Roman,serif\" font-size=\"14.00\" text-anchor=\"middle\" x=\"82\" y=\"-379.8\">conv1: Conv2D</text>\n",
       "</g>\n",
       "<!-- 2822719947720&#45;&gt;2822719948168 -->\n",
       "<g class=\"edge\" id=\"edge1\"><title>2822719947720-&gt;2822719948168</title>\n",
       "<path d=\"M82,-438.313C82,-430.289 82,-420.547 82,-411.569\" fill=\"none\" stroke=\"black\"/>\n",
       "<polygon fill=\"black\" points=\"85.5001,-411.529 82,-401.529 78.5001,-411.529 85.5001,-411.529\" stroke=\"black\"/>\n",
       "</g>\n",
       "<!-- 2822721025416 -->\n",
       "<g class=\"node\" id=\"node3\"><title>2822721025416</title>\n",
       "<polygon fill=\"none\" points=\"5,-292.5 5,-328.5 159,-328.5 159,-292.5 5,-292.5\" stroke=\"black\"/>\n",
       "<text font-family=\"Times New Roman,serif\" font-size=\"14.00\" text-anchor=\"middle\" x=\"82\" y=\"-306.8\">bn1: BatchNormalization</text>\n",
       "</g>\n",
       "<!-- 2822719948168&#45;&gt;2822721025416 -->\n",
       "<g class=\"edge\" id=\"edge2\"><title>2822719948168-&gt;2822721025416</title>\n",
       "<path d=\"M82,-365.313C82,-357.289 82,-347.547 82,-338.569\" fill=\"none\" stroke=\"black\"/>\n",
       "<polygon fill=\"black\" points=\"85.5001,-338.529 82,-328.529 78.5001,-338.529 85.5001,-338.529\" stroke=\"black\"/>\n",
       "</g>\n",
       "<!-- 2822721544264 -->\n",
       "<g class=\"node\" id=\"node4\"><title>2822721544264</title>\n",
       "<polygon fill=\"none\" points=\"8,-219.5 8,-255.5 156,-255.5 156,-219.5 8,-219.5\" stroke=\"black\"/>\n",
       "<text font-family=\"Times New Roman,serif\" font-size=\"14.00\" text-anchor=\"middle\" x=\"82\" y=\"-233.8\">activation_2: Activation</text>\n",
       "</g>\n",
       "<!-- 2822721025416&#45;&gt;2822721544264 -->\n",
       "<g class=\"edge\" id=\"edge3\"><title>2822721025416-&gt;2822721544264</title>\n",
       "<path d=\"M82,-292.313C82,-284.289 82,-274.547 82,-265.569\" fill=\"none\" stroke=\"black\"/>\n",
       "<polygon fill=\"black\" points=\"85.5001,-265.529 82,-255.529 78.5001,-265.529 85.5001,-265.529\" stroke=\"black\"/>\n",
       "</g>\n",
       "<!-- 2822721547848 -->\n",
       "<g class=\"node\" id=\"node5\"><title>2822721547848</title>\n",
       "<polygon fill=\"none\" points=\"0,-146.5 0,-182.5 164,-182.5 164,-146.5 0,-146.5\" stroke=\"black\"/>\n",
       "<text font-family=\"Times New Roman,serif\" font-size=\"14.00\" text-anchor=\"middle\" x=\"82\" y=\"-160.8\">max_pool: MaxPooling2D</text>\n",
       "</g>\n",
       "<!-- 2822721544264&#45;&gt;2822721547848 -->\n",
       "<g class=\"edge\" id=\"edge4\"><title>2822721544264-&gt;2822721547848</title>\n",
       "<path d=\"M82,-219.313C82,-211.289 82,-201.547 82,-192.569\" fill=\"none\" stroke=\"black\"/>\n",
       "<polygon fill=\"black\" points=\"85.5001,-192.529 82,-182.529 78.5001,-192.529 85.5001,-192.529\" stroke=\"black\"/>\n",
       "</g>\n",
       "<!-- 2822716141384 -->\n",
       "<g class=\"node\" id=\"node6\"><title>2822716141384</title>\n",
       "<polygon fill=\"none\" points=\"27.5,-73.5 27.5,-109.5 136.5,-109.5 136.5,-73.5 27.5,-73.5\" stroke=\"black\"/>\n",
       "<text font-family=\"Times New Roman,serif\" font-size=\"14.00\" text-anchor=\"middle\" x=\"82\" y=\"-87.8\">flatten_1: Flatten</text>\n",
       "</g>\n",
       "<!-- 2822721547848&#45;&gt;2822716141384 -->\n",
       "<g class=\"edge\" id=\"edge5\"><title>2822721547848-&gt;2822716141384</title>\n",
       "<path d=\"M82,-146.313C82,-138.289 82,-128.547 82,-119.569\" fill=\"none\" stroke=\"black\"/>\n",
       "<polygon fill=\"black\" points=\"85.5001,-119.529 82,-109.529 78.5001,-119.529 85.5001,-119.529\" stroke=\"black\"/>\n",
       "</g>\n",
       "<!-- 2822724310472 -->\n",
       "<g class=\"node\" id=\"node7\"><title>2822724310472</title>\n",
       "<polygon fill=\"none\" points=\"47.5,-0.5 47.5,-36.5 116.5,-36.5 116.5,-0.5 47.5,-0.5\" stroke=\"black\"/>\n",
       "<text font-family=\"Times New Roman,serif\" font-size=\"14.00\" text-anchor=\"middle\" x=\"82\" y=\"-14.8\">fc: Dense</text>\n",
       "</g>\n",
       "<!-- 2822716141384&#45;&gt;2822724310472 -->\n",
       "<g class=\"edge\" id=\"edge6\"><title>2822716141384-&gt;2822724310472</title>\n",
       "<path d=\"M82,-73.3129C82,-65.2895 82,-55.5475 82,-46.5691\" fill=\"none\" stroke=\"black\"/>\n",
       "<polygon fill=\"black\" points=\"85.5001,-46.5288 82,-36.5288 78.5001,-46.5289 85.5001,-46.5288\" stroke=\"black\"/>\n",
       "</g>\n",
       "</g>\n",
       "</svg>"
      ],
      "text/plain": [
       "<IPython.core.display.SVG object>"
      ]
     },
     "execution_count": 10,
     "metadata": {},
     "output_type": "execute_result"
    }
   ],
   "source": [
    "plot_model(happyModel, to_file='HappyModel.png')\n",
    "SVG(model_to_dot(happyModel).create(prog='dot', format='svg'))"
   ]
  }
 ],
 "metadata": {
  "kernelspec": {
   "display_name": "Python 3",
   "language": "python",
   "name": "python3"
  },
  "language_info": {
   "codemirror_mode": {
    "name": "ipython",
    "version": 3
   },
   "file_extension": ".py",
   "mimetype": "text/x-python",
   "name": "python",
   "nbconvert_exporter": "python",
   "pygments_lexer": "ipython3",
   "version": "3.7.6"
  }
 },
 "nbformat": 4,
 "nbformat_minor": 2
}
